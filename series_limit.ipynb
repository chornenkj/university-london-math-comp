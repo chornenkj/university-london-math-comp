{
 "cells": [
  {
   "cell_type": "markdown",
   "id": "e8cd0f9a",
   "metadata": {},
   "source": [
    "### Determine if the following series E (for n=2 to infinity) 1/(n^2 - 1) converges or diverges. If it converges determine its sum."
   ]
  },
  {
   "cell_type": "code",
   "execution_count": 1,
   "id": "b15797fd",
   "metadata": {},
   "outputs": [],
   "source": [
    "def get_sum(length):\n",
    "    sum = 0\n",
    "    for n in range(length):\n",
    "        sum += 1 / ((n+2) ** 2 - 1)\n",
    "    return sum"
   ]
  },
  {
   "cell_type": "code",
   "execution_count": 3,
   "id": "617859f2",
   "metadata": {},
   "outputs": [
    {
     "name": "stdout",
     "output_type": "stream",
     "text": [
      "0.5952380952380952\n"
     ]
    }
   ],
   "source": [
    "print(get_sum(5))"
   ]
  },
  {
   "cell_type": "code",
   "execution_count": 4,
   "id": "7730a8ab",
   "metadata": {},
   "outputs": [
    {
     "name": "stdout",
     "output_type": "stream",
     "text": [
      "0.6628787878787877\n"
     ]
    }
   ],
   "source": [
    "print(get_sum(10))"
   ]
  },
  {
   "cell_type": "code",
   "execution_count": 5,
   "id": "5b84f269",
   "metadata": {},
   "outputs": [
    {
     "name": "stdout",
     "output_type": "stream",
     "text": [
      "0.7034632034632032\n"
     ]
    }
   ],
   "source": [
    "print(get_sum(20))"
   ]
  },
  {
   "cell_type": "code",
   "execution_count": 6,
   "id": "ea93aaf8",
   "metadata": {},
   "outputs": [
    {
     "name": "stdout",
     "output_type": "stream",
     "text": [
      "0.7182459677419355\n"
     ]
    }
   ],
   "source": [
    "print(get_sum(30))"
   ]
  },
  {
   "cell_type": "code",
   "execution_count": 7,
   "id": "94022150",
   "metadata": {},
   "outputs": [
    {
     "name": "stdout",
     "output_type": "stream",
     "text": [
      "0.7401475441661812\n"
     ]
    }
   ],
   "source": [
    "print(get_sum(100))"
   ]
  },
  {
   "cell_type": "code",
   "execution_count": null,
   "id": "362edcf8",
   "metadata": {},
   "outputs": [],
   "source": [
    "# This is too long length\n",
    "print(get_sum(10000000000))"
   ]
  },
  {
   "cell_type": "code",
   "execution_count": null,
   "id": "71795791",
   "metadata": {},
   "outputs": [],
   "source": []
  }
 ],
 "metadata": {
  "kernelspec": {
   "display_name": "Python 3 (ipykernel)",
   "language": "python",
   "name": "python3"
  },
  "language_info": {
   "codemirror_mode": {
    "name": "ipython",
    "version": 3
   },
   "file_extension": ".py",
   "mimetype": "text/x-python",
   "name": "python",
   "nbconvert_exporter": "python",
   "pygments_lexer": "ipython3",
   "version": "3.9.12"
  }
 },
 "nbformat": 4,
 "nbformat_minor": 5
}

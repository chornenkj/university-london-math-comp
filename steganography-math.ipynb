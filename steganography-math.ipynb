{
 "cells": [
  {
   "cell_type": "code",
   "execution_count": 1,
   "id": "06682db0",
   "metadata": {},
   "outputs": [],
   "source": [
    "import re\n",
    "\n",
    "def get_hide(list_of_colors):\n",
    "    '''Function unhides colors.\n",
    "    Hidden color is formed with shifting 4 left binary digits of each value of\n",
    "    R G and B into 4 right binary digits and then they are hidden with new\n",
    "    4 left binary digits.\n",
    "\n",
    "    :arg\n",
    "    'list_of_colors' is a list of tuples:\n",
    "    Each color in tuple format with 3 values RGB respectively.\n",
    "\n",
    "    :returns\n",
    "    List of unhidden colors'''\n",
    "\n",
    "    colors = []\n",
    "    for iR, iG, iB in list_of_colors:\n",
    "        color = ((iR % 16) * 16, (iG % 16) * 16, (iB % 16) * 16)\n",
    "        colors.append(color)\n",
    "\n",
    "    return colors\n",
    "\n"
   ]
  },
  {
   "cell_type": "code",
   "execution_count": 2,
   "id": "8b15b52a",
   "metadata": {},
   "outputs": [],
   "source": [
    "# Read RGB values from 'images.txt'\n",
    "with open('images.txt') as file:\n",
    "    text = file.read()\n",
    "#Split values with '\\s' pattern as there are white spaces and newlines\n",
    "intermediate = re.split(r'\\s', text)\n",
    "\n",
    "# Reformat data as it is copied in this shuffled format from source\n",
    "colors = []\n",
    "for i in range(0,len(intermediate)-1,12):\n",
    "    color = (int(intermediate[i]), int(intermediate[i + 4]), int(intermediate[i + 8]))\n",
    "    colors.append(color)\n",
    "    color = (int(intermediate[i + 1]), int(intermediate[i + 5]), int(intermediate[i + 9]))\n",
    "    colors.append(color)\n",
    "    color = (int(intermediate[i + 2]), int(intermediate[i + 6]), int(intermediate[i + 10]))\n",
    "    colors.append(color)\n",
    "    color = (int(intermediate[i + 3]), int(intermediate[i + 7]), int(intermediate[i + 11]))\n",
    "    colors.append(color)\n",
    "\n",
    "unhided_colors = get_hide(colors)"
   ]
  },
  {
   "cell_type": "code",
   "execution_count": 3,
   "id": "019abfc4",
   "metadata": {},
   "outputs": [],
   "source": [
    "def create_image(values):\n",
    "    # Fuction reformats range of tuples into list of list (4x4) of tuples\n",
    "    \n",
    "    image = []\n",
    "    for i in range(4):\n",
    "        row = []\n",
    "        for j in range(4):\n",
    "            row.append(values[i * 4 + j])\n",
    "        image.append(row)\n",
    "    return image"
   ]
  },
  {
   "cell_type": "code",
   "execution_count": 4,
   "id": "8a5f75f8",
   "metadata": {},
   "outputs": [],
   "source": [
    "# Here we get images as a list of images, each one is a list of list of colors as tuple\n",
    "images = []\n",
    "for image_number in range(0,len(unhided_colors)-1,16):\n",
    "    images.append(create_image(unhided_colors[image_number:image_number + 16]))"
   ]
  },
  {
   "cell_type": "code",
   "execution_count": 5,
   "id": "b51b5892",
   "metadata": {},
   "outputs": [],
   "source": [
    "def tuples_to_list(in_image):\n",
    "    #Fuction reformats colors from tuples into lists\n",
    "    out_image = []\n",
    "    for i in range(4):\n",
    "        row = []\n",
    "        for j in range(4):\n",
    "            color = []\n",
    "            color.append(in_image[i][j][0])\n",
    "            color.append(in_image[i][j][1])\n",
    "            color.append(in_image[i][j][2])\n",
    "            row.append(color)\n",
    "        out_image.append(row)\n",
    "    return out_image"
   ]
  },
  {
   "cell_type": "code",
   "execution_count": 6,
   "id": "801f9b2d",
   "metadata": {},
   "outputs": [],
   "source": [
    "# Here we perform transformation from tuples into lists\n",
    "list_images = []\n",
    "for image in images:\n",
    "    list_images.append(tuples_to_list(image))"
   ]
  },
  {
   "cell_type": "code",
   "execution_count": 9,
   "id": "a0e012a6",
   "metadata": {},
   "outputs": [],
   "source": [
    "# Function to convert RGB values tuple into hex with hash\n",
    "def rgb2hex(r,g,b):\n",
    "    \n",
    "    # Check if the values between 0 and 255\n",
    "    def clamp(x): \n",
    "        return max(0, min(x, 255))\n",
    "    \n",
    "    return \"#{:02x}{:02x}{:02x}\".format(clamp(r),clamp(g),clamp(b))\n",
    "\n",
    "# Function to convert hex format into RGB tuple\n",
    "def hex2rgb(hexcode):\n",
    "    return tuple(map(ord,hexcode[1:].decode('hex')))"
   ]
  },
  {
   "cell_type": "code",
   "execution_count": 10,
   "id": "1ee94ed3",
   "metadata": {},
   "outputs": [],
   "source": [
    "def tuples_to_hex(in_image):\n",
    "    #Fuction reformats colors from tuples into hex format\n",
    "    out_image = []\n",
    "    for i in range(4):\n",
    "        row = []\n",
    "        for j in range(4):\n",
    "            color = rgb2hex(in_image[i][j][0],in_image[i][j][1],in_image[i][j][2])\n",
    "            row.append(color)\n",
    "        out_image.append(row)\n",
    "    return out_image"
   ]
  },
  {
   "cell_type": "code",
   "execution_count": 11,
   "id": "6488f890",
   "metadata": {},
   "outputs": [],
   "source": [
    "# Here we perform transformation from tuples into hex format\n",
    "hex_images = []\n",
    "for image in images:\n",
    "    hex_images.append(tuples_to_hex(image))"
   ]
  },
  {
   "cell_type": "code",
   "execution_count": 30,
   "id": "aa96dfe5",
   "metadata": {},
   "outputs": [
    {
     "data": {
      "application/vnd.jupyter.widget-view+json": {
       "model_id": "0408bd5b965242258aa410e906b49d55",
       "version_major": 2,
       "version_minor": 0
      },
      "text/plain": [
       "Canvas(height=40, width=450)"
      ]
     },
     "metadata": {},
     "output_type": "display_data"
    }
   ],
   "source": [
    "from ipycanvas import Canvas\n",
    "\n",
    "# Draw single image\n",
    "def draw_image(image, x_pos, y_pos):\n",
    "    for i in range(4):\n",
    "        for j in range(4):\n",
    "            canvas.fill_style = image[i][j]\n",
    "            canvas.fill_rect(x_pos + PIXEL_SIZE * j,\n",
    "                             y_pos + PIXEL_SIZE * i,\n",
    "                             PIXEL_SIZE,\n",
    "                             PIXEL_SIZE)\n",
    "\n",
    "# Global constant to set pixel size            \n",
    "PIXEL_SIZE = 10\n",
    " \n",
    "canvas.sync_image_data = True    \n",
    "    \n",
    "canvas = Canvas(width=11 * 4 * PIXEL_SIZE + index, height=4 * PIXEL_SIZE)\n",
    "for index, image in enumerate(hex_images):\n",
    "    draw_image(image,index * 4 * PIXEL_SIZE + index,0)\n",
    "\n",
    "canvas"
   ]
  },
  {
   "cell_type": "code",
   "execution_count": null,
   "id": "2ff059a5",
   "metadata": {},
   "outputs": [],
   "source": []
  }
 ],
 "metadata": {
  "kernelspec": {
   "display_name": "Python 3 (ipykernel)",
   "language": "python",
   "name": "python3"
  },
  "language_info": {
   "codemirror_mode": {
    "name": "ipython",
    "version": 3
   },
   "file_extension": ".py",
   "mimetype": "text/x-python",
   "name": "python",
   "nbconvert_exporter": "python",
   "pygments_lexer": "ipython3",
   "version": "3.9.12"
  }
 },
 "nbformat": 4,
 "nbformat_minor": 5
}

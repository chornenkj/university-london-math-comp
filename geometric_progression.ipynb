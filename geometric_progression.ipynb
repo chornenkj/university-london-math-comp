{
 "cells": [
  {
   "cell_type": "markdown",
   "id": "f5d6d1c8",
   "metadata": {},
   "source": [
    "### Find the sum of the first 20 terms of the geometric sequence given by 2, 4, 8, 16, ...2,4,8,16,..."
   ]
  },
  {
   "cell_type": "code",
   "execution_count": 2,
   "id": "1988bbda",
   "metadata": {},
   "outputs": [
    {
     "name": "stdout",
     "output_type": "stream",
     "text": [
      "2097150\n"
     ]
    }
   ],
   "source": [
    "sum = 0\n",
    "for k in range(20):\n",
    "    sum += 2 ** (k + 1)\n",
    "print(sum)"
   ]
  },
  {
   "cell_type": "code",
   "execution_count": null,
   "id": "814c437a",
   "metadata": {},
   "outputs": [],
   "source": []
  }
 ],
 "metadata": {
  "kernelspec": {
   "display_name": "Python 3 (ipykernel)",
   "language": "python",
   "name": "python3"
  },
  "language_info": {
   "codemirror_mode": {
    "name": "ipython",
    "version": 3
   },
   "file_extension": ".py",
   "mimetype": "text/x-python",
   "name": "python",
   "nbconvert_exporter": "python",
   "pygments_lexer": "ipython3",
   "version": "3.9.12"
  }
 },
 "nbformat": 4,
 "nbformat_minor": 5
}

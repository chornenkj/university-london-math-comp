{
 "cells": [
  {
   "cell_type": "markdown",
   "id": "13c92743",
   "metadata": {},
   "source": [
    "## Random sequence generating testing\n",
    "### The task here is to test how the formula of generating random sequence works with different given values.\n",
    "#### The formula is r_n+1 ≡ m x r_n + i (mod C), for n ≥ 1, where\n",
    "#### r_1 is the starting value (seed), 0 <= r_1 <= C, given\n",
    "#### r_n - is the nth term of the sequence\n",
    "#### r_n+1 - is the n+1th term of the sequence\n",
    "#### m - is the multiplier\n",
    "#### i - is the increment\n",
    "#### C - is the modulus, C > 0"
   ]
  },
  {
   "cell_type": "markdown",
   "id": "46f926bb",
   "metadata": {},
   "source": [
    "Given values:\n",
    "\n",
    "C= 5, m= 1, i= 1, r_1=1 \n",
    "\n",
    "C= 5, m= 2, i= 2, r_1=1\n",
    "\n",
    "C= 13, m= 2, i= 0, r_1=1"
   ]
  },
  {
   "cell_type": "code",
   "execution_count": 15,
   "id": "9e11f8c7",
   "metadata": {},
   "outputs": [],
   "source": [
    "# Function to generate and print sequence 1\n",
    "# Formula: r_n+1 ≡ m x r_n + i (mod C)\n",
    "\n",
    "def rand_seq(r1_value=1, m_value=1, i_value=1, C_value=5, length=10, include=True):\n",
    "    # Initialize variables seq (sequence) and r_value\n",
    "    seq = []\n",
    "    # If parameter include is set to True r1_value is included as the first term of sequence\n",
    "    if include:\n",
    "        seq.append(r1_value)\n",
    "        start_n = 2\n",
    "    else:\n",
    "        start_n = 1\n",
    "    r_value = r1_value\n",
    "    # Check whether C_value is positive, if not set to 5\n",
    "    if C_value <= 0:\n",
    "        C_value = 5\n",
    "    \n",
    "    # Generate sequence\n",
    "    # Use max function to set the length of sequence at least 10 members\n",
    "    for n in range(start_n, max(length+1,11)):\n",
    "        r_value = (m_value * r_value + i_value) % C_value\n",
    "        seq.append(r_value)\n",
    "    return seq"
   ]
  },
  {
   "cell_type": "code",
   "execution_count": 19,
   "id": "d0a69c2d",
   "metadata": {},
   "outputs": [
    {
     "name": "stdout",
     "output_type": "stream",
     "text": [
      "[1, 2, 3, 4, 0, 1, 2, 3, 4, 0, 1, 2, 3, 4, 0, 1, 2, 3, 4, 0, 1, 2, 3, 4, 0, 1, 2, 3, 4, 0, 1, 2, 3, 4, 0, 1, 2, 3, 4, 0, 1, 2, 3, 4, 0, 1, 2, 3, 4, 0]\n"
     ]
    }
   ],
   "source": [
    "# First test\n",
    "sequence1 = rand_seq(1,1,1,5,50)\n",
    "print(sequence1)"
   ]
  },
  {
   "cell_type": "code",
   "execution_count": 20,
   "id": "cf19313b",
   "metadata": {},
   "outputs": [
    {
     "name": "stdout",
     "output_type": "stream",
     "text": [
      "[1, 4, 0, 2, 1, 4, 0, 2, 1, 4, 0, 2, 1, 4, 0, 2, 1, 4, 0, 2, 1, 4, 0, 2, 1, 4, 0, 2, 1, 4, 0, 2, 1, 4, 0, 2, 1, 4, 0, 2, 1, 4, 0, 2, 1, 4, 0, 2, 1, 4]\n"
     ]
    }
   ],
   "source": [
    "sequence2 = rand_seq(1,2,2,5,50)\n",
    "print(sequence2)"
   ]
  },
  {
   "cell_type": "code",
   "execution_count": 21,
   "id": "af43f240",
   "metadata": {},
   "outputs": [
    {
     "name": "stdout",
     "output_type": "stream",
     "text": [
      "[1, 2, 4, 8, 3, 6, 12, 11, 9, 5, 10, 7, 1, 2, 4, 8, 3, 6, 12, 11, 9, 5, 10, 7, 1, 2, 4, 8, 3, 6, 12, 11, 9, 5, 10, 7, 1, 2, 4, 8, 3, 6, 12, 11, 9, 5, 10, 7, 1, 2]\n"
     ]
    }
   ],
   "source": [
    "sequence3 = rand_seq(1,2,0,13,50)\n",
    "print(sequence3)"
   ]
  },
  {
   "cell_type": "code",
   "execution_count": 22,
   "id": "655c3963",
   "metadata": {},
   "outputs": [
    {
     "name": "stdout",
     "output_type": "stream",
     "text": [
      "[1998, 997002, 6993, 987012, 26973, 947052, 106893, 787212, 426573, 147852, 705294, 590409, 820179, 360639, 279720, 441558, 117882, 765234, 470529, 59940, 881118, 238761, 523476, 954045, 92907, 815184, 370629, 259740, 481518, 37962, 925074, 150849, 699300, 602397, 796203, 408591, 183816, 633366, 734265, 532467, 936063, 128871, 743256, 514485, 972027, 56943, 887112, 226773, 547452, 906093]\n"
     ]
    }
   ],
   "source": [
    "sequence4 = rand_seq(1,999,999,999999,50,include=False)\n",
    "print(sequence4)"
   ]
  },
  {
   "cell_type": "code",
   "execution_count": null,
   "id": "10d0fdac",
   "metadata": {},
   "outputs": [],
   "source": []
  }
 ],
 "metadata": {
  "kernelspec": {
   "display_name": "Python 3 (ipykernel)",
   "language": "python",
   "name": "python3"
  },
  "language_info": {
   "codemirror_mode": {
    "name": "ipython",
    "version": 3
   },
   "file_extension": ".py",
   "mimetype": "text/x-python",
   "name": "python",
   "nbconvert_exporter": "python",
   "pygments_lexer": "ipython3",
   "version": "3.9.12"
  }
 },
 "nbformat": 4,
 "nbformat_minor": 5
}

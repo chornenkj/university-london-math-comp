{
 "cells": [
  {
   "cell_type": "markdown",
   "id": "f75bc212",
   "metadata": {},
   "source": [
    "### Find the limit of the sequence (u_n)_n as n tends to infinity, u_n = 3 + (- n - 1) / n"
   ]
  },
  {
   "cell_type": "code",
   "execution_count": 1,
   "id": "bdfaea60",
   "metadata": {},
   "outputs": [],
   "source": [
    "def get_n_term(n):\n",
    "    return 3 - ((n + 1) / n)"
   ]
  },
  {
   "cell_type": "code",
   "execution_count": 8,
   "id": "0cccf334",
   "metadata": {},
   "outputs": [
    {
     "name": "stdout",
     "output_type": "stream",
     "text": [
      "1.999999999\n",
      "1.9999999995\n",
      "1.9999999996666666\n",
      "1.99999999975\n",
      "1.9999999998\n",
      "1.9999999998333333\n",
      "1.999999999857143\n",
      "1.999999999875\n",
      "1.9999999998888889\n",
      "1.9999999999\n"
     ]
    }
   ],
   "source": [
    "for i in range(10):\n",
    "    print(get_n_term((i + 1) * 1000000000))"
   ]
  },
  {
   "cell_type": "code",
   "execution_count": null,
   "id": "0df99ef3",
   "metadata": {},
   "outputs": [],
   "source": []
  }
 ],
 "metadata": {
  "kernelspec": {
   "display_name": "Python 3 (ipykernel)",
   "language": "python",
   "name": "python3"
  },
  "language_info": {
   "codemirror_mode": {
    "name": "ipython",
    "version": 3
   },
   "file_extension": ".py",
   "mimetype": "text/x-python",
   "name": "python",
   "nbconvert_exporter": "python",
   "pygments_lexer": "ipython3",
   "version": "3.9.12"
  }
 },
 "nbformat": 4,
 "nbformat_minor": 5
}
